{
 "cells": [
  {
   "cell_type": "code",
   "execution_count": 79,
   "metadata": {},
   "outputs": [],
   "source": [
    "import matplotlib.pyplot as plt\n",
    "from mpl_toolkits.mplot3d import Axes3D\n",
    "import numpy as np\n",
    "import scipy.stats as stats\n",
    "\n",
    "from sklearn.cluster import DBSCAN\n",
    "from sklearn.neighbors import NearestNeighbors as nn"
   ]
  },
  {
   "cell_type": "code",
   "execution_count": 2,
   "metadata": {},
   "outputs": [],
   "source": [
    "def reader(file_name):\n",
    "    list_obj = list()\n",
    "    with open(file_name, 'r') as fd_file:\n",
    "        i = 0;\n",
    "        for line in fd_file:\n",
    "            line = line.split()\n",
    "            coords = np.zeros(shape=(3,))\n",
    "            coords[0] = float(line[0])\n",
    "            coords[1] = float(line[1])\n",
    "            coords[2] = float(line[2])\n",
    "            i += 1\n",
    "            list_obj.append(coords)            \n",
    "    return np.array(list_obj)"
   ]
  },
  {
   "cell_type": "code",
   "execution_count": 57,
   "metadata": {},
   "outputs": [],
   "source": [
    "mas = reader('r 0.05 0.075 xyz.txt')"
   ]
  },
  {
   "cell_type": "code",
   "execution_count": 58,
   "metadata": {},
   "outputs": [
    {
     "data": {
      "text/plain": [
       "(123930, 3)"
      ]
     },
     "execution_count": 58,
     "metadata": {},
     "output_type": "execute_result"
    }
   ],
   "source": [
    "mas.shape\n"
   ]
  },
  {
   "cell_type": "code",
   "execution_count": 59,
   "metadata": {},
   "outputs": [],
   "source": [
    "nbrs = nn(n_neighbors=5, algorithm='ball_tree').fit(mas)"
   ]
  },
  {
   "cell_type": "code",
   "execution_count": 60,
   "metadata": {},
   "outputs": [],
   "source": [
    "dist, ind = nbrs.kneighbors(mas)"
   ]
  },
  {
   "cell_type": "code",
   "execution_count": 339,
   "metadata": {},
   "outputs": [],
   "source": [
    "tmp = dist_to_4[112000:113000]"
   ]
  },
  {
   "cell_type": "code",
   "execution_count": 346,
   "metadata": {
    "collapsed": true
   },
   "outputs": [
    {
     "data": {
      "text/plain": [
       "array([1.01312438, 1.57951557, 2.05695737, 1.69914177, 1.14775675,\n",
       "       2.24133048, 2.12080587, 1.29689764, 1.16678124, 0.87648207,\n",
       "       0.67581574, 1.11947857, 1.00277798, 0.88568118, 0.94504335,\n",
       "       2.07242275, 1.90613436, 2.29189365, 1.79916232, 0.99833791,\n",
       "       0.65191911, 1.06037491, 1.65332662, 2.09336035, 2.48072079,\n",
       "       1.10215584, 2.46268115, 1.98397637, 2.29201267, 2.42310189,\n",
       "       2.4680675 , 1.85718716, 2.5007627 , 1.89567305, 1.39723874,\n",
       "       2.27182321, 3.42827149, 1.61606744, 3.98476194, 2.08430526,\n",
       "       3.68638658, 1.80546323, 2.14265091, 4.20420823, 2.33687416,\n",
       "       3.24708725, 2.21160107, 1.84845856, 2.42621629, 3.26570612,\n",
       "       3.5620812 , 3.16134725, 2.32136308, 1.6850578 , 1.57342681,\n",
       "       1.71484523, 1.75150478, 1.36798817, 1.5706869 , 1.53275322,\n",
       "       1.9274565 , 1.79624287, 2.01931179, 2.26257759, 1.80489136,\n",
       "       2.03697718, 1.45953137, 1.11680405, 1.18014314, 0.90822954,\n",
       "       1.88762927, 1.41870412, 1.01508506, 0.97650372, 1.53001912,\n",
       "       1.11860251, 0.93448385, 1.43491337, 0.85093877, 1.81004879,\n",
       "       1.54570562, 2.08876682, 2.46053087, 2.18552328, 2.38703397,\n",
       "       1.96683764, 2.5743121 , 2.42756465, 2.2562    , 2.19312602,\n",
       "       2.09418116, 2.83188023, 1.99265751, 2.71645435, 1.93791753,\n",
       "       2.0700637 , 1.87609974, 4.03244269, 2.09633084, 2.30526292,\n",
       "       5.24367765, 2.17382008, 2.03634749, 1.85763703, 2.23990609,\n",
       "       0.91600309, 1.35863557, 1.36763163, 1.35863557, 1.73636858,\n",
       "       3.79040398, 2.86659531, 2.92701292, 2.96757577, 1.2021273 ,\n",
       "       1.54796091, 2.42132027, 1.16248055, 2.55288134, 1.79186879,\n",
       "       1.94181159, 1.81355394, 2.67781661, 2.60330437, 1.64878053,\n",
       "       2.9349234 , 1.35660413, 0.90574033, 0.95914227, 2.49002285,\n",
       "       1.05997439, 1.16687678, 1.04014408, 1.77452706, 1.23904311,\n",
       "       1.64799276, 1.42832236, 1.92792196, 1.62921999, 1.56201299,\n",
       "       1.98841222, 1.64799276, 1.57216615, 2.20601009, 1.72997606,\n",
       "       1.70967711, 2.65778809, 2.30723712, 1.11456235, 0.92119073,\n",
       "       1.46373519, 0.47792399, 1.76019635, 1.14132906, 1.14391143,\n",
       "       2.42950731, 1.91377601, 1.26745612, 2.3139127 , 0.37107305,\n",
       "       0.78658395, 0.47792399, 0.795716  , 1.21702747, 0.74318479,\n",
       "       0.85814773, 1.28926524, 0.86117666, 1.26745612, 2.42950731,\n",
       "       1.35716217, 1.06013353, 2.5601526 , 0.6752118 , 0.64867443,\n",
       "       0.59074048, 1.0229429 , 0.35930858, 1.00445843, 0.47474847,\n",
       "       1.39254621, 1.24199506, 1.54748624, 2.77646702, 2.30238684,\n",
       "       2.1526633 , 1.81219233, 2.4164656 , 1.22900779, 1.28700395,\n",
       "       1.68963524, 1.49344293, 1.23154123, 1.49344293, 2.31402958,\n",
       "       2.38318284, 1.36723514, 3.24117083, 1.51530904, 2.10063923,\n",
       "       1.48839627, 1.03505408, 1.17518005, 1.10606348, 1.37963849,\n",
       "       1.12576438, 0.76994433, 0.93188721, 0.96650738, 0.81027453,\n",
       "       0.95560148, 0.68270327, 0.76161212, 1.14749106, 0.70194418,\n",
       "       1.72967905, 1.76007378, 0.96024799, 1.80102925, 1.90130344,\n",
       "       0.63336291, 0.54731301, 0.45869439, 0.83243239, 0.7465535 ,\n",
       "       1.90465273, 2.30365476, 0.83079442, 0.75576979, 2.22146106,\n",
       "       0.60350514, 0.62925821, 1.6153683 , 1.51449015, 0.67074708,\n",
       "       1.24187691, 1.94312608, 1.04728334, 0.93656525, 1.54389889,\n",
       "       0.68670247, 1.23878699, 1.09034269, 0.73371195, 1.22194294,\n",
       "       1.53004831, 1.16074653, 2.62291217, 0.9866588 , 1.77645144,\n",
       "       1.30317428, 1.15587989, 0.88902994, 2.08211872, 1.50391219,\n",
       "       0.92821263, 0.87278981, 0.93864735, 1.13287278, 0.67968486,\n",
       "       0.54317856, 0.81970191, 0.93717526, 1.06159667, 1.11958219,\n",
       "       1.05347005, 1.05347005, 1.14347888, 1.63269611, 2.00574655,\n",
       "       1.42347778, 1.50841272, 1.61863689, 2.1795211 , 1.78775361,\n",
       "       1.68943439, 1.94502124, 1.45798202, 2.32331978, 2.3892882 ,\n",
       "       1.4572588 , 2.28517106, 1.91134998, 1.93722396, 1.24265147,\n",
       "       1.75654021, 1.74333116, 1.67185357, 0.91111735, 2.13105831,\n",
       "       1.02015117, 0.95679556, 0.89527142, 0.72453042, 0.90756928,\n",
       "       1.17321965, 0.77179917, 1.48918203, 0.91779099, 0.65043878,\n",
       "       1.1216154 , 1.12638879, 1.7306516 , 1.40059189, 1.00915446,\n",
       "       2.72389213, 0.90953935, 0.74988616, 0.72453042, 0.77412753,\n",
       "       0.87501987, 0.6013474 , 1.01098965, 0.51340513, 1.08775328,\n",
       "       0.77219758, 1.35338724, 2.14633832, 1.35723308, 1.00898298,\n",
       "       1.04449216, 1.32758303, 1.31703899, 0.76825841, 1.12638879,\n",
       "       0.6429922 , 0.73561557, 1.09845571, 1.09000511, 1.39696433,\n",
       "       0.68802732, 1.24916324, 1.24186995, 1.34506716, 1.35723308,\n",
       "       1.46906073, 0.77634782, 1.42460427, 0.77970684, 0.79129302,\n",
       "       0.50322653, 1.69233847, 1.57004259, 0.70103979, 0.69303337,\n",
       "       0.77970684, 2.1812662 , 1.19717754, 2.13314951, 2.00088985,\n",
       "       1.3310587 , 1.34610738, 2.17983097, 1.14431813, 1.96900103,\n",
       "       2.07933934, 1.89524645, 2.33377319, 1.62887994, 1.73962353,\n",
       "       1.84429344, 2.1496982 , 3.28322762, 2.15391363, 1.20957177,\n",
       "       2.94839604, 3.04550837, 3.32276996, 2.51084725, 2.35331476,\n",
       "       1.46953215, 1.35744448, 1.35744448, 2.16362257, 1.99443274,\n",
       "       1.2089767 , 1.20754146, 2.06413096, 1.64854438, 0.99542457,\n",
       "       1.05894438, 0.95463916, 1.8724798 , 1.80704286, 3.1236769 ,\n",
       "       3.12399372, 1.80773658, 1.52060304, 2.38821388, 1.77617298,\n",
       "       2.10510587, 2.17843666, 1.53351729, 2.03825475, 1.80501146,\n",
       "       1.88837605, 2.23240624, 1.80670437, 1.03503935, 2.55166938,\n",
       "       2.23261933, 1.44112127, 2.55475129, 1.36067566, 2.03559075,\n",
       "       2.1286292 , 2.77606186, 1.29063674, 1.21002554, 1.23993883,\n",
       "       1.13978767, 1.44160256, 2.15762766, 2.50739905, 2.3934422 ,\n",
       "       1.93519698, 2.30983272, 1.36589723, 1.15528148, 1.72155575,\n",
       "       1.44631116, 1.8309872 , 2.19725221, 2.19725221, 1.67315078,\n",
       "       1.54277926, 1.69986872, 1.22314555, 2.86657779, 1.21320274,\n",
       "       2.19557506, 3.27118094, 1.14362005, 1.68367599, 1.08618949,\n",
       "       2.83375263, 1.66326411, 1.06811526, 1.96183854, 1.25762209,\n",
       "       1.75778582, 1.21725163, 1.56852681, 1.53436506, 1.37621412,\n",
       "       3.13702665, 2.03906542, 2.07248708, 1.96818948, 1.85124708,\n",
       "       1.17979791, 0.91532086, 1.59896896, 1.11018816, 1.16219933,\n",
       "       1.31655619, 1.43316123, 1.19558841, 1.18339099, 1.34765796,\n",
       "       2.3088668 , 1.66437595, 2.16189341, 2.21552139, 1.59945474,\n",
       "       1.65410407, 1.60930972, 1.49546052, 2.52640374, 2.56485651,\n",
       "       3.01469305, 1.74027735, 1.45541655, 1.59136848, 1.33181871,\n",
       "       3.15136948, 2.54478221, 1.87300193, 1.79147894, 1.35251013,\n",
       "       1.10369976, 1.47342507, 1.55559343, 0.69131597, 0.73357223,\n",
       "       0.53395547, 1.62454977, 0.60912231, 1.41185398, 0.84772551,\n",
       "       0.84303514, 1.68830078, 3.2755128 , 1.62608598, 3.2306446 ,\n",
       "       1.8964432 , 1.06649798, 1.41041063, 1.62608598, 1.3155162 ,\n",
       "       1.17123332, 1.8809174 , 1.16588612, 2.44359269, 1.16588612,\n",
       "       1.60505749, 1.10709891, 2.26530354, 1.44119824, 2.39767312,\n",
       "       1.73327667, 1.5916734 , 1.15177646, 1.01921686, 2.74279927,\n",
       "       1.24769562, 0.8960204 , 2.20629561, 1.33101586, 2.94083142,\n",
       "       1.13444857, 1.26822987, 1.1901642 , 1.24898112, 0.87670699,\n",
       "       1.78152573, 1.30943052, 1.33941979, 2.52499519, 2.15083255,\n",
       "       2.81814969, 3.31805176, 2.07754858, 1.69331313, 0.99168865,\n",
       "       1.03631836, 1.03383014, 0.98142766, 0.96762005, 0.773364  ,\n",
       "       0.98142766, 0.85501704, 1.14360987, 2.25218249, 2.76040819,\n",
       "       2.23589831, 2.60330181, 2.37828122, 3.0011962 , 2.99294139,\n",
       "       1.02327946, 2.11690664, 1.32890537, 1.1365033 , 0.91087331,\n",
       "       1.22420351, 0.71888739, 2.98547382, 2.97170743, 2.0448329 ,\n",
       "       2.97274173, 2.56094418, 2.19057079, 2.45418607, 2.36062182,\n",
       "       3.16317575, 1.3562231 , 1.84812828, 1.44272346, 1.29064864,\n",
       "       0.89089317, 1.44300892, 0.82527084, 1.70430535, 2.73674368,\n",
       "       1.47769552, 3.38569345, 2.10143486, 2.51736402, 2.02139848,\n",
       "       1.34987225, 3.28353519, 3.42234025, 1.35839752, 0.96726024,\n",
       "       1.15213815, 1.14214945, 1.39435092, 0.99932691, 0.69850232,\n",
       "       0.90618883, 2.83261416, 1.10317538, 1.07297378, 3.31401559,\n",
       "       3.1102838 , 1.38264714, 1.1506706 , 1.1506706 , 1.01192005,\n",
       "       3.94443582, 1.44238408, 3.13129959, 2.67132528, 2.30931317,\n",
       "       3.52718094, 2.64122514, 1.78767287, 1.37250527, 2.26647245,\n",
       "       2.08094705, 1.19400688, 1.87289938, 2.67450852, 1.69320142,\n",
       "       1.4827484 , 1.22371208, 1.35063088, 1.50583031, 1.38942974,\n",
       "       1.60941047, 3.20717447, 2.1474474 , 1.60915856, 1.03692728,\n",
       "       1.18907239, 1.42932279, 1.99461972, 0.77266351, 1.86561111,\n",
       "       0.51265757, 0.99120137, 0.77266351, 0.73814383, 0.91481623,\n",
       "       0.79745657, 1.03249672, 1.12984388, 1.11228283, 1.48839627,\n",
       "       1.11228283, 1.06785704, 0.98777512, 1.37959103, 1.54780776,\n",
       "       1.91615988, 1.02747467, 2.23251441, 1.02747467, 1.25237896,\n",
       "       2.33033671, 2.16389425, 1.96756787, 1.47899545, 1.26958567,\n",
       "       1.71950467, 0.83711174, 1.3132204 , 2.07004283, 1.86754886,\n",
       "       2.74816745, 3.13652176, 1.56674927, 1.93120126, 1.60387011,\n",
       "       7.92891572, 6.64255921, 2.77682968, 1.66789599, 0.681303  ,\n",
       "       1.28355006, 1.10928709, 1.27217203, 1.30593725, 0.5478518 ,\n",
       "       0.5478518 , 0.52127463, 0.74530193, 0.64182857, 0.7445124 ,\n",
       "       0.9417897 , 1.23097469, 1.52621942, 1.2852055 , 1.2761414 ,\n",
       "       0.77771953, 0.98562522, 0.53809579, 1.04293131, 1.0625871 ,\n",
       "       1.0698559 , 2.93227868, 0.58610546, 0.84512751, 1.2822682 ,\n",
       "       1.26360612, 1.05077683, 1.37540415, 0.89894119, 1.14512005,\n",
       "       1.14272936, 1.35190651, 0.92413426, 1.1319951 , 0.82113209,\n",
       "       0.63887455, 1.11866608, 0.83525784, 0.72201365, 0.60432414,\n",
       "       0.75748724, 0.84512751, 1.78257587, 1.21051511, 1.04908339,\n",
       "       0.93770573, 1.00876531, 1.2096356 , 1.12062493, 1.4306713 ,\n",
       "       0.92455531, 0.67084716, 2.62569645, 1.85197172, 2.68260202,\n",
       "       0.98712009, 0.91625049, 0.9171961 , 0.75258508, 1.61681081,\n",
       "       1.18345495, 0.79730949, 0.46961068, 0.77461993, 0.86594948,\n",
       "       0.46961068, 1.26919988, 1.93276248, 1.54669921, 1.47369394,\n",
       "       1.68484255, 0.92234518, 1.23499931, 1.9140401 , 1.99695619,\n",
       "       1.90746591, 1.55549962, 1.37419876, 2.02114156, 1.53672016,\n",
       "       1.53024613, 2.25039277, 1.68095135, 0.88555939, 1.2918709 ,\n",
       "       1.21259136, 1.55670106, 1.69783787, 1.90295053, 3.61311074,\n",
       "       1.78715808, 2.17327625, 1.9140401 , 2.80149343, 4.09033517,\n",
       "       2.70773876, 1.54986158, 1.24061161, 1.65218566, 0.83941123,\n",
       "       1.24472106, 1.85112743, 0.64458026, 0.88573958, 0.95168588,\n",
       "       0.75737333, 1.66041778, 0.81088357, 0.83084597, 1.23489022,\n",
       "       0.58966927, 0.84383378, 0.68667027, 1.07112909, 0.8586786 ,\n",
       "       0.9602408 , 0.79670941, 1.23708782, 1.11247008, 1.37801651,\n",
       "       1.0226414 , 0.82035277, 1.28481791, 0.91189674, 0.9660889 ,\n",
       "       0.94935048, 1.07112909, 0.65466767, 0.94558948, 1.20524673,\n",
       "       1.02025486, 1.02212441, 0.87269481, 0.87026899, 0.96938006,\n",
       "       1.0636736 , 1.0283107 , 1.95678913, 1.40632962, 2.10592134,\n",
       "       1.29508008, 0.78611315, 2.00254651, 1.57468475, 1.73851376,\n",
       "       1.81987528, 1.15127203, 1.02025486, 1.48953253, 1.03944199,\n",
       "       0.91852706, 1.92481694, 1.54917867, 2.16768122, 1.90852968,\n",
       "       2.15619019, 2.00907965, 2.33146781, 2.42446873, 1.23373974,\n",
       "       2.23169367, 2.31579763, 2.35642332, 1.53364067, 5.64143143,\n",
       "       4.31768966, 3.63867435, 3.78277153, 4.13609498, 3.98720581,\n",
       "       1.45330156, 1.46215066, 1.80173116, 3.72101806, 3.76190008,\n",
       "       2.06976752, 2.14536216, 1.77573932, 1.06283234, 1.93492812,\n",
       "       2.1001119 , 1.48937751, 0.96923394, 1.59060783, 1.18586618,\n",
       "       3.45263122, 1.35581959, 1.67687127, 1.70683785, 1.79149626,\n",
       "       1.70683785, 2.73709798, 0.96275634, 8.16958517, 2.49253239,\n",
       "       1.29938498, 3.26942902, 2.47903353, 3.72383087, 2.24188035,\n",
       "       4.0794278 , 3.05063063, 5.91938196, 1.33837174, 0.93964484,\n",
       "       1.50169721, 1.12219723, 1.46228299, 0.65781513, 1.32944692,\n",
       "       0.85494737, 0.58448198, 2.21545628, 3.60789815, 1.16029808,\n",
       "       1.18148008, 1.55999778, 1.54702109, 1.38118415, 1.35926843,\n",
       "       1.50803765, 1.65412562, 1.69029675, 1.22989681, 0.99959168,\n",
       "       1.05863056, 0.95208653, 1.68670596, 1.31326073, 1.56091715,\n",
       "       1.55999778, 1.29830298, 1.44822719, 1.93190328, 1.33516882,\n",
       "       1.40063977, 1.62043789, 2.51016135, 2.57325726, 2.48728701,\n",
       "       1.02029103, 2.48501536, 3.12477746, 2.96163869, 2.90229548,\n",
       "       3.12779899, 3.33430041, 2.31240467, 2.38019751, 1.90897319,\n",
       "       2.1214008 , 1.77105888, 1.92832779, 2.20123102, 1.77105888,\n",
       "       1.32361345, 1.54765571, 1.52430804, 2.55785451, 1.35951585,\n",
       "       1.74038213, 2.09733245, 1.42598054, 1.55465653, 3.12742156,\n",
       "       1.277094  , 1.54153915, 2.51371391, 0.95395026, 1.57923033,\n",
       "       1.63115231, 1.85041897, 1.13346434, 1.20727121, 1.53373279,\n",
       "       3.03605353, 1.59402666, 1.89540558, 1.955394  , 1.79044303,\n",
       "       1.84766607, 2.84389924, 3.75887911, 3.97449506, 2.14876331,\n",
       "       2.4122129 , 1.47802575, 1.38832339, 2.22191459, 3.15589387,\n",
       "       1.79940471, 1.23337585, 1.72006876, 2.00505978, 2.41587698,\n",
       "       2.29510687, 1.48338169, 1.65693728, 1.08925823, 1.13768156,\n",
       "       1.17855028, 1.4632269 , 2.10111219, 1.72137595, 1.63821225,\n",
       "       1.66540943, 1.544659  , 0.99598209, 1.35706878, 0.77726268,\n",
       "       1.65463261, 1.07122522, 1.18971496, 1.15391872, 1.45520158,\n",
       "       1.3734477 , 1.46800597, 1.17286761, 1.47410557, 1.03283642,\n",
       "       1.08288609, 1.07958013, 1.65818646])"
      ]
     },
     "execution_count": 346,
     "metadata": {},
     "output_type": "execute_result"
    }
   ],
   "source": [
    "tmp[tmp<10]"
   ]
  },
  {
   "cell_type": "code",
   "execution_count": 62,
   "metadata": {},
   "outputs": [],
   "source": [
    "dist_to_4 = dist[:,4]"
   ]
  },
  {
   "cell_type": "code",
   "execution_count": 188,
   "metadata": {},
   "outputs": [
    {
     "data": {
      "text/plain": [
       "(123930,)"
      ]
     },
     "execution_count": 188,
     "metadata": {},
     "output_type": "execute_result"
    }
   ],
   "source": [
    "dist_to_4.shape"
   ]
  },
  {
   "cell_type": "code",
   "execution_count": 199,
   "metadata": {},
   "outputs": [],
   "source": [
    "tmp = dist_to_4[:1000]"
   ]
  },
  {
   "cell_type": "code",
   "execution_count": 64,
   "metadata": {},
   "outputs": [
    {
     "data": {
      "text/plain": [
       "array([], dtype=float64)"
      ]
     },
     "execution_count": 64,
     "metadata": {},
     "output_type": "execute_result"
    }
   ],
   "source": [
    "dist_to_4[dist_to_4==0]"
   ]
  },
  {
   "cell_type": "code",
   "execution_count": 312,
   "metadata": {
    "collapsed": true
   },
   "outputs": [
    {
     "data": {
      "text/plain": [
       "array([ 2.43480512,  3.23437766,  1.38049532,  1.24985555,  1.7727536 ,\n",
       "        1.87969161,  1.42817871,  1.15565925,  0.96026545,  1.65224552,\n",
       "        1.42906015,  0.76615977,  0.90371883,  0.71271992,  0.9651388 ,\n",
       "        2.27606743,  1.33280843,  2.77881623,  1.50192069,  1.18785832,\n",
       "        0.9325992 ,  0.9325992 ,  0.89468942,  1.18244556,  1.39441003,\n",
       "        2.78522252,  1.15937024,  1.31975603,  1.4293326 ,  1.59711785,\n",
       "        1.31094767,  1.81730552,  2.27333978,  2.01000687,  2.57311791,\n",
       "        0.69995306,  2.03826531,  1.84239966,  1.68872754,  1.6023731 ,\n",
       "        1.59056685,  1.97178542,  1.79833703,  1.0096042 ,  1.78005835,\n",
       "        1.69008377,  2.25038751,  2.15517606,  1.60230055,  2.19361212,\n",
       "        2.43739468,  2.12279928,  2.88230445,  2.42403745,  2.82819954,\n",
       "        3.36887887,  2.77334451,  2.30426307,  2.68337158,  2.7390302 ,\n",
       "        2.56413573,  2.61011946,  2.69386686,  2.16910499,  1.71425099,\n",
       "        2.46231345,  2.76904077,  1.80342583,  2.59351441,  1.06856466,\n",
       "        1.56119372,  1.01485574,  1.35739732,  1.10614745,  1.39776042,\n",
       "        1.05825462,  1.68183406,  1.19353001,  1.32083701,  1.85639364,\n",
       "        1.46669656,  1.23232451,  1.33350465,  1.31269693,  2.64345407,\n",
       "        1.15305379,  1.12765105,  1.12765105,  0.95194027,  1.34605401,\n",
       "        0.92608264,  1.07716651,  1.22448482,  1.22529471,  1.68677226,\n",
       "        1.55678796,  2.04164694,  2.46164229,  1.10455451,  1.15377253,\n",
       "        1.72685239,  1.23948853,  1.10455451,  0.96440151,  1.18394279,\n",
       "        1.22448482,  0.89517352,  1.59786959,  2.7254613 ,  2.65632121,\n",
       "        1.5834075 ,  0.95447052,  0.70430177,  1.37551403,  1.57577179,\n",
       "        1.57623335,  1.83813782,  1.41563234,  1.08651728,  1.00248617,\n",
       "        1.17317033,  0.90602694,  0.6355909 ,  0.70430177,  1.18186684,\n",
       "        2.35445689,  1.10985514,  1.00248617,  0.70511424,  1.44709931,\n",
       "        1.10851372,  1.20500128,  0.5925782 ,  1.0183558 ,  3.22206147,\n",
       "        2.23779407,  1.44347804,  1.50271764,  2.49265437,  1.86033468,\n",
       "        2.17885915,  1.85786338,  1.86601053,  2.97595765,  3.38750667,\n",
       "        2.94047087,  2.0075014 ,  3.42843544,  2.68288826,  2.91922072,\n",
       "        1.93287153,  1.87536524,  1.8063763 ,  2.4809111 ,  2.76329995,\n",
       "        2.3716983 ,  1.3022622 ,  1.9313835 ,  1.63007832,  2.1572722 ,\n",
       "        1.14327422,  1.16587131,  1.49764588,  1.80447698,  1.20465004,\n",
       "        1.59361549,  1.3520809 ,  1.16587131,  1.65096676,  1.63526473,\n",
       "        1.74403221,  1.12020696,  1.74403221,  1.75969767,  2.74897058,\n",
       "        2.02257318,  1.98960733,  1.32208853,  2.55131942,  5.96210197,\n",
       "        3.04466437,  2.13170252,  8.05284791,  3.60765766,  2.9823389 ,\n",
       "        1.32954339,  1.35373259,  2.98700163,  1.9012898 ,  2.24878369,\n",
       "        3.65242339,  2.45348097,  2.76509496,  3.46816532,  1.89092325,\n",
       "        2.20330764,  2.20330764,  1.80885091,  4.58566189,  1.90366899,\n",
       "        3.22914839,  1.85578743,  2.05587614,  3.6353914 ,  4.41386564,\n",
       "        3.7617161 ,  3.79628187,  1.83701332,  1.65031491,  4.24825207,\n",
       "        5.22945441,  1.30193636,  1.17428617,  2.08141164,  5.54290007,\n",
       "        4.5340296 ,  3.41705638,  4.04228472,  4.81723397,  2.46686396,\n",
       "        3.17626919,  4.47361483,  4.04583091,  4.7141376 ,  5.8596927 ,\n",
       "        5.31678798,  3.73356859,  6.75440608,  3.28844095,  2.22870972,\n",
       "        1.541091  ,  0.96296438,  1.43780108,  1.23004675,  0.96843043,\n",
       "        0.87789132,  0.97041564,  1.51804581,  1.44140254,  0.61742339,\n",
       "        0.88916196,  0.77522846,  0.80269858,  0.80269858,  1.13417134,\n",
       "        1.49910554,  1.31607342,  1.40414664,  1.45449754,  1.11246343,\n",
       "        1.68609052,  0.81594063,  1.53816465,  0.95919185,  1.81531806,\n",
       "        1.48963548,  0.73135567,  1.19256779,  1.18967873,  1.34190789,\n",
       "        1.36806482,  0.70365901,  0.87432423,  1.06916402,  1.82098913,\n",
       "        1.0697598 ,  1.76545406,  1.60270383,  1.42379292,  1.75795821,\n",
       "        2.64609021,  1.98522872,  5.81525876,  5.65200416,  4.62701667,\n",
       "        4.01892936,  6.28141064,  3.42106546, 63.73988359, 31.89134218,\n",
       "        2.62813564,  2.19241431,  1.47513414,  1.95126693,  4.85903582,\n",
       "        1.07160329,  2.90128796,  1.1858448 ,  1.24290321,  1.18687688,\n",
       "        5.09320624,  1.27762721,  2.6105151 ,  1.31756804,  2.88184781,\n",
       "        3.04569716,  2.22501693,  1.93418091,  2.84801875,  1.54996338,\n",
       "        1.85158277,  1.6704878 ,  2.60017325,  1.97811987,  1.87649521,\n",
       "        1.85485589,  2.15447794,  2.4438629 ,  1.70722054,  2.37362897,\n",
       "        2.60964938,  1.06577368,  1.30003291,  1.22051775,  0.76514309,\n",
       "        2.44831269,  2.472292  ,  2.21999166,  2.40253981,  2.32918111,\n",
       "        2.01612384,  1.20484939,  2.60241194,  2.28009948,  2.0478114 ,\n",
       "        2.80778885,  1.56449911,  3.1875113 ,  1.67363675,  1.93021246,\n",
       "        1.61462981,  1.57019404,  1.61067656,  1.90454048,  1.87769822,\n",
       "        1.45734368,  3.41361927,  3.10269206,  2.80935851,  3.03541654,\n",
       "        2.7817171 ,  2.89472418,  3.49962999,  1.72700129,  3.0000118 ,\n",
       "        1.83893604,  1.26596501,  1.44643126,  1.55191626,  1.36901762,\n",
       "        1.52895922,  1.56925788,  1.44176656,  1.44176656,  2.29523776,\n",
       "        2.24394222,  4.36679949,  2.90227151,  2.69501496,  2.82448299,\n",
       "        2.7996721 ,  1.86444227,  1.69965067,  1.72390085,  4.21396984,\n",
       "        2.41469838,  3.43278252,  3.64274566,  0.97219794,  1.96624252,\n",
       "        1.70699129,  1.37106113,  1.56745078,  1.48695848,  1.15478585,\n",
       "        1.79730345,  2.86678344,  1.35126868,  1.65688372,  1.31954697,\n",
       "        1.33929092,  2.40003292,  1.24397935,  1.60667693,  2.44990015,\n",
       "        1.28487791,  2.08207862,  2.46412138,  2.23114155,  2.40069469,\n",
       "        2.0319357 ,  1.98154628,  1.6479796 ,  1.25938619,  1.55551746,\n",
       "        1.59499655,  1.5989581 ,  1.69780352,  1.0462541 ,  2.3515954 ,\n",
       "        2.17142484,  1.7921202 ,  2.20055555,  2.20055555,  2.68529272,\n",
       "        3.7427688 ,  3.23496898,  1.53205563,  1.10128207,  0.90531923,\n",
       "        1.30070013,  1.87491335,  1.09586987,  0.97120584,  2.47577926,\n",
       "        2.67828981,  1.67209423,  2.86156874,  1.75345004,  3.03600836,\n",
       "        2.38601208,  1.71235883,  1.70170471,  1.98020168,  1.56364606,\n",
       "        4.12461561,  2.46539308,  2.57556986,  2.49168177,  2.50616895,\n",
       "        1.83429108,  1.59179406,  2.10488785,  3.32153338,  2.08304682,\n",
       "        1.65750704,  1.40774811,  1.08119052,  1.26330797,  1.14588475,\n",
       "        1.14588475,  1.8828255 ,  1.41986575,  2.27731917,  1.73399339,\n",
       "        1.52583541,  1.29566876,  1.62461746,  1.59176715,  1.63805297,\n",
       "        1.33602106,  1.44531289,  1.24853055,  0.98846877,  1.27152077,\n",
       "        1.30288087,  1.14844905,  1.59976342,  1.81441987,  1.78208634,\n",
       "        2.50070729,  2.27535661,  1.42399156,  1.28762121,  1.43731395,\n",
       "        0.99709379,  1.28180923,  0.94272805,  1.44509376,  1.87572287,\n",
       "        1.25189936,  1.01195888,  1.68082673,  1.36996107,  1.83768919,\n",
       "        1.41311825,  2.6628344 ,  1.63589196,  1.41311825,  1.02058081,\n",
       "        1.27274068,  1.12366164,  1.12366164,  1.20640015,  1.20344019,\n",
       "        2.43477977,  2.31609658,  2.30481369,  2.27727971,  2.02018124,\n",
       "        1.78465722,  1.40120179,  1.34531537,  1.35201476,  1.32437228,\n",
       "        1.02703599,  1.63478479,  2.47833931,  2.79148092,  1.37984615])"
      ]
     },
     "execution_count": 312,
     "metadata": {},
     "output_type": "execute_result"
    }
   ],
   "source": [
    "dist_to_4[110000:110500]"
   ]
  },
  {
   "cell_type": "code",
   "execution_count": 351,
   "metadata": {},
   "outputs": [],
   "source": [
    "fit_alpha, fit_loc, fit_beta = stats.gamma.fit(tmp[tmp<8])"
   ]
  },
  {
   "cell_type": "code",
   "execution_count": 321,
   "metadata": {},
   "outputs": [
    {
     "name": "stderr",
     "output_type": "stream",
     "text": [
      "C:\\ProgramData\\Anaconda3\\lib\\site-packages\\scipy\\stats\\_distn_infrastructure.py:2316: RuntimeWarning: invalid value encountered in double_scalars\n",
      "  Lhat = muhat - Shat*mu\n"
     ]
    }
   ],
   "source": [
    "fit_alpha, fit_loc, fit_beta = stats.alpha.fit(dist_to_4)"
   ]
  },
  {
   "cell_type": "code",
   "execution_count": 335,
   "metadata": {},
   "outputs": [
    {
     "name": "stderr",
     "output_type": "stream",
     "text": [
      "C:\\ProgramData\\Anaconda3\\lib\\site-packages\\scipy\\stats\\_continuous_distns.py:515: RuntimeWarning: invalid value encountered in sqrt\n",
      "  sk = 2*(b-a)*np.sqrt(a + b + 1) / (a + b + 2) / np.sqrt(a*b)\n",
      "C:\\ProgramData\\Anaconda3\\lib\\site-packages\\scipy\\optimize\\minpack.py:162: RuntimeWarning: The iteration is not making good progress, as measured by the \n",
      "  improvement from the last ten iterations.\n",
      "  warnings.warn(msg, RuntimeWarning)\n"
     ]
    }
   ],
   "source": [
    "a, b, loc, scale = stats.beta.fit(dist_to_4[1000:110000], 3, 2)"
   ]
  },
  {
   "cell_type": "code",
   "execution_count": 336,
   "metadata": {},
   "outputs": [
    {
     "name": "stdout",
     "output_type": "stream",
     "text": [
      "2.629346050744244 51.461029585626946 0.20091127867591513 35.26120105892832\n"
     ]
    }
   ],
   "source": [
    "print(a, b, loc, scale)"
   ]
  },
  {
   "cell_type": "code",
   "execution_count": 352,
   "metadata": {},
   "outputs": [
    {
     "name": "stdout",
     "output_type": "stream",
     "text": [
      "3.036975762815633 0.3141446548017459 0.4407451047049222\n"
     ]
    }
   ],
   "source": [
    "print(fit_alpha, fit_loc, fit_beta)"
   ]
  },
  {
   "cell_type": "code",
   "execution_count": 338,
   "metadata": {},
   "outputs": [
    {
     "data": {
      "text/plain": [
       "[<matplotlib.lines.Line2D at 0x2290e0ff470>]"
      ]
     },
     "execution_count": 338,
     "metadata": {},
     "output_type": "execute_result"
    },
    {
     "data": {
      "image/png": "[encoded data removed]",
      "text/plain": [
       "<Figure size 432x288 with 1 Axes>"
      ]
     },
     "metadata": {},
     "output_type": "display_data"
    }
   ],
   "source": [
    "x = np.linspace(0, 8, 200)\n",
    "pdf_fitted = stats.beta.pdf(x, a, b, loc, scale)\n",
    "plt.plot(x, pdf_fitted, color='r')"
   ]
  },
  {
   "cell_type": "code",
   "execution_count": 353,
   "metadata": {
    "scrolled": true
   },
   "outputs": [
    {
     "data": {
      "text/plain": [
       "[<matplotlib.lines.Line2D at 0x2290e692518>]"
      ]
     },
     "execution_count": 353,
     "metadata": {},
     "output_type": "execute_result"
    },
    {
     "data": {
      "image/png": "[encoded data removed]",
      "text/plain": [
       "<Figure size 432x288 with 1 Axes>"
      ]
     },
     "metadata": {},
     "output_type": "display_data"
    }
   ],
   "source": [
    "\n",
    "x = np.linspace(0, 8, 200)\n",
    "pdf_fitted = stats.alpha.pdf(x, fit_alpha, loc=fit_loc, scale=fit_beta)\n",
    "plt.plot(x, pdf_fitted, color='r')\n"
   ]
  },
  {
   "cell_type": "code",
   "execution_count": 289,
   "metadata": {
    "collapsed": true
   },
   "outputs": [
    {
     "data": {
      "text/plain": [
       "array([  0.        ,   0.        ,   0.        ,   0.        ,\n",
       "         0.        ,   0.        ,   0.        ,   0.        ,\n",
       "         0.        ,   0.        ,   0.        ,   0.        ,\n",
       "         0.        ,   0.        ,   0.        ,   0.        ,\n",
       "         0.        ,   0.        ,   0.        ,   0.        ,\n",
       "         0.        ,   0.        ,   0.        ,   0.        ,\n",
       "         0.        ,   0.        ,   0.        ,   0.        ,\n",
       "         0.        , 106.78259298,  94.26205731,  84.38915235,\n",
       "        76.40264865,  69.80788916,  64.26943342,  59.55173346,\n",
       "        55.48450442,  51.94157212,  48.82744987,  46.06853768,\n",
       "        43.60718714,  41.39759911,  39.40292602,  37.59318522,\n",
       "        35.94373028,  34.43411359,  33.04722804,  31.76865119,\n",
       "        30.58613805,  29.48922484,  28.46891622,  27.51743623,\n",
       "        26.62802828,  25.79479329,  25.01255774,  24.27676533,\n",
       "        23.58338757,  22.92884939,  22.30996711,  21.72389618,\n",
       "        21.16808725,  20.64024875,  20.13831509,  19.66041949,\n",
       "        19.20487058,  18.77013222,  18.35480615,  17.95761678,\n",
       "        17.57739806,  17.21308193,  16.86368823,  16.52831587,\n",
       "        16.20613496,  15.89637994,  15.59834344,  15.31137086,\n",
       "        15.03485554,  14.76823444,  14.51098427,  14.26261808,\n",
       "        14.02268212,  13.79075306,  13.56643549,  13.34935967,\n",
       "        13.13917945,  12.93557042,  12.73822823,  12.5468671 ,\n",
       "        12.36121835,  12.1810292 ,  12.00606159,  11.83609112,\n",
       "        11.67090608])"
      ]
     },
     "execution_count": 289,
     "metadata": {},
     "output_type": "execute_result"
    }
   ],
   "source": [
    "pdf_fitted[pdf_fitted<120]"
   ]
  },
  {
   "cell_type": "code",
   "execution_count": 354,
   "metadata": {},
   "outputs": [
    {
     "data": {
      "text/plain": [
       "[<matplotlib.lines.Line2D at 0x2290e11d898>]"
      ]
     },
     "execution_count": 354,
     "metadata": {},
     "output_type": "execute_result"
    },
    {
     "data": {
      "image/png": "[encoded data removed]",
      "text/plain": [
       "<Figure size 432x288 with 1 Axes>"
      ]
     },
     "metadata": {},
     "output_type": "display_data"
    }
   ],
   "source": [
    "x = np.linspace(0, 3, 200)\n",
    "pdf_fitted = stats.gamma.pdf(x, fit_alpha, fit_loc, fit_beta)\n",
    "plt.plot(x, pdf_fitted, color='r')"
   ]
  },
  {
   "cell_type": "code",
   "execution_count": 355,
   "metadata": {},
   "outputs": [
    {
     "data": {
      "text/plain": [
       "array([0.00000000e+00, 0.00000000e+00, 0.00000000e+00, 0.00000000e+00,\n",
       "       0.00000000e+00, 0.00000000e+00, 0.00000000e+00, 0.00000000e+00,\n",
       "       0.00000000e+00, 0.00000000e+00, 0.00000000e+00, 0.00000000e+00,\n",
       "       0.00000000e+00, 0.00000000e+00, 0.00000000e+00, 0.00000000e+00,\n",
       "       0.00000000e+00, 0.00000000e+00, 0.00000000e+00, 0.00000000e+00,\n",
       "       0.00000000e+00, 2.75278004e-05, 1.47629010e-03, 5.05450816e-03,\n",
       "       1.05968153e-02, 1.79238525e-02, 2.68582115e-02, 3.72289340e-02,\n",
       "       4.88732643e-02, 6.16373490e-02, 7.53764463e-02, 8.99548775e-02,\n",
       "       1.05245834e-01, 1.21131104e-01, 1.37500745e-01, 1.54252743e-01,\n",
       "       1.71292640e-01, 1.88533178e-01, 2.05893928e-01, 2.23300934e-01,\n",
       "       2.40686365e-01, 2.57988173e-01, 2.75149765e-01, 2.92119690e-01,\n",
       "       3.08851330e-01, 3.25302616e-01, 3.41435743e-01, 3.57216908e-01,\n",
       "       3.72616059e-01, 3.87606647e-01, 4.02165403e-01, 4.16272118e-01,\n",
       "       4.29909434e-01, 4.43062650e-01, 4.55719536e-01, 4.67870155e-01,\n",
       "       4.79506697e-01, 4.90623322e-01, 5.01216012e-01, 5.11282425e-01,\n",
       "       5.20821771e-01, 5.29834677e-01, 5.38323077e-01, 5.46290096e-01,\n",
       "       5.53739948e-01, 5.60677838e-01, 5.67109866e-01, 5.73042944e-01,\n",
       "       5.78484715e-01, 5.83443473e-01, 5.87928094e-01, 5.91947972e-01,\n",
       "       5.95512949e-01, 5.98633265e-01, 6.01319498e-01, 6.03582517e-01,\n",
       "       6.05433430e-01, 6.06883545e-01, 6.07944329e-01, 6.08627364e-01,\n",
       "       6.08944321e-01, 6.08906921e-01, 6.08526908e-01, 6.07816020e-01,\n",
       "       6.06785966e-01, 6.05448399e-01, 6.03814901e-01, 6.01896956e-01,\n",
       "       5.99705938e-01, 5.97253093e-01, 5.94549524e-01, 5.91606179e-01,\n",
       "       5.88433839e-01, 5.85043108e-01, 5.81444402e-01, 5.77647943e-01,\n",
       "       5.73663751e-01, 5.69501636e-01, 5.65171199e-01, 5.60681819e-01,\n",
       "       5.56042656e-01, 5.51262644e-01, 5.46350493e-01, 5.41314682e-01,\n",
       "       5.36163464e-01, 5.30904861e-01, 5.25546664e-01, 5.20096439e-01,\n",
       "       5.14561520e-01, 5.08949015e-01, 5.03265809e-01, 4.97518562e-01,\n",
       "       4.91713713e-01, 4.85857482e-01, 4.79955874e-01, 4.74014682e-01,\n",
       "       4.68039488e-01, 4.62035668e-01, 4.56008395e-01, 4.49962642e-01,\n",
       "       4.43903190e-01, 4.37834623e-01, 4.31761341e-01, 4.25687558e-01,\n",
       "       4.19617310e-01, 4.13554457e-01, 4.07502685e-01, 4.01465515e-01,\n",
       "       3.95446304e-01, 3.89448250e-01, 3.83474396e-01, 3.77527634e-01,\n",
       "       3.71610708e-01, 3.65726222e-01, 3.59876639e-01, 3.54064290e-01,\n",
       "       3.48291373e-01, 3.42559961e-01, 3.36872005e-01, 3.31229335e-01,\n",
       "       3.25633669e-01, 3.20086611e-01, 3.14589659e-01, 3.09144208e-01,\n",
       "       3.03751552e-01, 2.98412887e-01, 2.93129317e-01, 2.87901857e-01,\n",
       "       2.82731433e-01, 2.77618889e-01, 2.72564988e-01, 2.67570418e-01,\n",
       "       2.62635790e-01, 2.57761645e-01, 2.52948456e-01, 2.48196629e-01,\n",
       "       2.43506509e-01, 2.38878380e-01, 2.34312468e-01, 2.29808945e-01,\n",
       "       2.25367929e-01, 2.20989489e-01, 2.16673644e-01, 2.12420371e-01,\n",
       "       2.08229599e-01, 2.04101220e-01, 2.00035082e-01, 1.96030999e-01,\n",
       "       1.92088749e-01, 1.88208075e-01, 1.84388689e-01, 1.80630274e-01,\n",
       "       1.76932482e-01, 1.73294940e-01, 1.69717249e-01, 1.66198988e-01,\n",
       "       1.62739712e-01, 1.59338955e-01, 1.55996232e-01, 1.52711040e-01,\n",
       "       1.49482860e-01, 1.46311155e-01, 1.43195375e-01, 1.40134956e-01,\n",
       "       1.37129323e-01, 1.34177888e-01, 1.31280053e-01, 1.28435211e-01,\n",
       "       1.25642747e-01, 1.22902037e-01, 1.20212452e-01, 1.17573357e-01,\n",
       "       1.14984109e-01, 1.12444064e-01, 1.09952573e-01, 1.07508984e-01,\n",
       "       1.05112642e-01, 1.02762890e-01, 1.00459072e-01, 9.82005297e-02])"
      ]
     },
     "execution_count": 355,
     "metadata": {},
     "output_type": "execute_result"
    }
   ],
   "source": [
    "pdf_fitted\n"
   ]
  },
  {
   "cell_type": "code",
   "execution_count": 320,
   "metadata": {
    "scrolled": false
   },
   "outputs": [
    {
     "data": {
      "text/plain": [
       "[<matplotlib.lines.Line2D at 0x2290de0a2b0>]"
      ]
     },
     "execution_count": 320,
     "metadata": {},
     "output_type": "execute_result"
    },
    {
     "data": {
      "image/png": "[encoded data removed]",
      "text/plain": [
       "<Figure size 936x576 with 1 Axes>"
      ]
     },
     "metadata": {},
     "output_type": "display_data"
    }
   ],
   "source": [
    "fig = plt.figure(figsize=(13, 8))\n",
    "plt.xticks(fontsize=20)\n",
    "plt.yticks(fontsize=20)\n",
    "\n",
    "num = plt.hist(dist_to_4, 100, [0, 8], density=True)\n",
    "plt.plot(x, pdf_fitted, color='r')"
   ]
  },
  {
   "cell_type": "code",
   "execution_count": 152,
   "metadata": {},
   "outputs": [
    {
     "data": {
      "text/plain": [
       "[<matplotlib.lines.Line2D at 0x2290c87f5f8>]"
      ]
     },
     "execution_count": 152,
     "metadata": {},
     "output_type": "execute_result"
    },
    {
     "data": {
      "image/png": "[encoded data removed]",
      "text/plain": [
       "<Figure size 432x288 with 1 Axes>"
      ]
     },
     "metadata": {},
     "output_type": "display_data"
    }
   ],
   "source": [
    "plt.plot(num[1][1:], num[0])"
   ]
  },
  {
   "cell_type": "code",
   "execution_count": 18,
   "metadata": {},
   "outputs": [],
   "source": [
    "dist_not_zero = dist[dist!=0]"
   ]
  },
  {
   "cell_type": "code",
   "execution_count": 27,
   "metadata": {},
   "outputs": [
    {
     "data": {
      "text/plain": [
       "array([0.01956224, 0.02521089, 0.02551765, ..., 1.09694955, 1.20579458,\n",
       "       1.39562228])"
      ]
     },
     "execution_count": 27,
     "metadata": {},
     "output_type": "execute_result"
    }
   ],
   "source": [
    "dist_not_zero[]"
   ]
  },
  {
   "cell_type": "code",
   "execution_count": 44,
   "metadata": {
    "scrolled": false
   },
   "outputs": [
    {
     "data": {
      "text/plain": [
       "(array([   0.,    0.,    0.,    0.,    0.,    0.,    0.,    0.,    0.,\n",
       "           0.,    0.,    0.,    0.,    0.,    0.,    0.,    0.,    0.,\n",
       "           0.,    0.,    0.,    0.,    0.,    0.,    0.,  442.,  365.,\n",
       "         447.,  411.,  382.,  430.,  438.,  445.,  488.,  490.,  469.,\n",
       "         482.,  512.,  533.,  514.,  536.,  635.,  572.,  542.,  607.,\n",
       "         649.,  674.,  677.,  665.,  608.,  698.,  621.,  669.,  760.,\n",
       "         758.,  758.,  730.,  755.,  813.,  783.,  781.,  847.,  856.,\n",
       "         911.,  832.,  855.,  787.,  904.,  913.,  856.,  947., 1024.,\n",
       "         933.,  965.,  971.,  951.,  994., 1002., 1016., 1109., 1037.,\n",
       "        1055., 1107., 1163., 1040., 1073., 1123., 1105., 1163., 1084.,\n",
       "        1119., 1147., 1204., 1172., 1220., 1276., 1136., 1232., 1105.,\n",
       "        1142., 1217., 1312., 1193., 1172., 1183., 1142., 1269., 1223.,\n",
       "        1209., 1142., 1332., 1202., 1237., 1271., 1253., 1304., 1205.,\n",
       "        1183., 1256., 1228., 1289., 1230., 1328., 1205., 1265., 1319.,\n",
       "        1247., 1307., 1241., 1287., 1307., 1291., 1239., 1359., 1229.,\n",
       "        1220., 1261., 1372., 1216., 1204., 1361., 1336., 1303., 1309.,\n",
       "        1302., 1304., 1268., 1335., 1274., 1301., 1285., 1237., 1255.,\n",
       "        1282., 1293., 1255., 1284., 1272., 1282., 1332., 1223., 1318.,\n",
       "        1275., 1295., 1363., 1342., 1239., 1304., 1291., 1248., 1248.,\n",
       "        1285., 1240., 1310., 1263., 1274., 1263., 1177., 1165., 1239.,\n",
       "        1279., 1167., 1288., 1253., 1208., 1177., 1196., 1177., 1228.,\n",
       "        1171., 1182., 1200., 1212., 1206., 1203., 1224., 1179., 1240.,\n",
       "        1262., 1146., 1143., 1191., 1135., 1138., 1181., 1125., 1113.,\n",
       "        1190., 1113., 1068., 1149., 1120., 1171., 1070., 1107., 1034.,\n",
       "        1122., 1144., 1125., 1207., 1084., 1071., 1117., 1140., 1071.,\n",
       "        1011., 1056., 1074., 1096., 1121., 1042., 1068., 1103., 1011.,\n",
       "        1087.,  986., 1009., 1104., 1011.,  966., 1013., 1088., 1021.,\n",
       "        1012., 1117., 1015., 1038., 1010.,  947.,  963.,  980.,  988.,\n",
       "         961., 1036.,  971., 1038., 1013.,  984.,  987.,  953.,  981.,\n",
       "         997.,  967.,  972.,  912., 1010.,  963.,  911.,  879.,  943.,\n",
       "         892.,  908.,  836.,  866.,  823.,  856.,  934.,  863.,  837.,\n",
       "         824.,  823.,  875.,  859.,  801.,  843.,  825.,  803.,  794.,\n",
       "         782.,  821.,  808.,  862.,  817.,  743.,  779.,  804.,  779.,\n",
       "         780.,  750.,  705.,  769.,  843.,  746.,  717.,  720.,  703.,\n",
       "         669.,  795.,  798.,  714.,  709.,  664.,  737.,  729.,  730.,\n",
       "         787.,  691.,  684.,  708.,  764.,  687.,  729.,  696.,  698.,\n",
       "         667.,  731.,  695.,  675.,  715.,  676.,  620.,  684.,  703.,\n",
       "         633.,  662.,  622.,  715.,  635.,  653.,  664.,  649.,  645.,\n",
       "         621.,  679.,  633.,  621.,  624.,  605.,  621.,  660.,  590.,\n",
       "         559.,  564.,  593.,  657.,  565.,  629.,  544.,  574.,  549.,\n",
       "         611.,  558.,  563.,  546.,  562.,  596.,  546.,  512.,  509.,\n",
       "         535.,  516.,  538.,  562.,  488.,  560.,  519.,  492.,  531.,\n",
       "         470.,  549.,  549.,  537.,  542.,  485.,  475.,  459.,  547.,\n",
       "         458.,  479.,  470.,  520.,  482.,  454.,  491.,  420.,  417.,\n",
       "         495.,  570.,  480.,  497.,  433.,  455.,  433.,  420.,  478.,\n",
       "         434.,  461.,  414.,  458.,  490.,  428.,  432.,  393.,  456.,\n",
       "         448.,  417.,  421.,  420.,  411.,  444.,  437.,  414.,  426.,\n",
       "         409.,  435.,  444.,  366.,  331.,  451.,  390.,  417.,  360.,\n",
       "         411.,  337.,  381.,  417.,  383.,  372.,  405.,  375.,  411.,\n",
       "         376.,  388.,  364.,  368.,  364.,  347.,  319.,  369.,  370.,\n",
       "         311.,  379.,  359.,  310.,  363.,  312.,  324.,  299.,  351.,\n",
       "         358.,  260.,  301.,  339.,  332.,  311.,  335.,  288.,  309.,\n",
       "         283.,  334.,  292.,  290.,  309.,  306.,  312.,  322.,  295.,\n",
       "         254.,  283.,  264.,  293.,  279.,  287.,  300.,  274.,  251.,\n",
       "         275.,  340.,  296.,  281.,  262.,  264.,  254.,  257.,  271.,\n",
       "         275.,  280.,  287.,  254.,  297.,  278.,  257.,  264.,  244.,\n",
       "         272.,  288.,  315.,  242.,  240.,  260.,  228.,  247.,  220.,\n",
       "         235.,  241.,  255.,  265.,  285.,  257.,  217.,  262.,  221.,\n",
       "         202.,  190.,  267.,  215.,  201.,  206.,  211.,  212.,  214.,\n",
       "         237.,  213.,  214.,  208.,  202.,  200.,  246.,  219.,  196.,\n",
       "         223.,  190.,  223.,  177.,  213.,  228.,  166.,  213.,  189.,\n",
       "         211.,  201.,  196.,  175.,  207.,  201.,  178.,  170.,  186.,\n",
       "         178.,  170.,  199.,  187.,  188.,  184.,  157.,  182.,  173.,\n",
       "         187.,  184.,  166.,  160.,  171.,  178.,  144.,  167.,  197.,\n",
       "         177.,  179.,  179.,  189.,  166.,  152.,  159.,  176.,  157.,\n",
       "         147.,  128.,  180.,  162.,  146.,  171.,  152.,  149.,  154.,\n",
       "         157.,  173.,  170.,  174.,  135.,  161.,  147.,  170.,  153.,\n",
       "         159.,  160.,  162.,  140.,  127.,  126.,  111.,  157.,  134.,\n",
       "         136.,  103.,  147.,  157.,  126.,  140.,  142.,  140.,  162.,\n",
       "         129.,  129.,  120.,  130.,  162.,   94.,  151.,  124.,  132.,\n",
       "         142.,  114.,   90.,  135.,  132.,  129.,  116.,  147.,  122.,\n",
       "         116.,  125.,   97.,  108.,  103.,  109.,  106.,  117.,  106.,\n",
       "         101.,  105.,  125.,  107.,  112.,  100.,   99.,  107.,  103.,\n",
       "         108.,  115.,  105.,  123.,  109.,  117.,  108.,   94.,  120.,\n",
       "         124.,  114.,  102.,   92.,  109.,   91.,   99.,   94.,  102.,\n",
       "          85.,  106.,   88.,   78.,   83.,   86.,   72.,   98.,   80.,\n",
       "          97.,   91.,   84.,  106.,  113.,   92.,   94.,   79.,   87.,\n",
       "          91.,   94.,   88.,   95.,   93.,   86.,   78.,   91.,   88.,\n",
       "          79.,   88.,   72.,   71.,   87.,  105.,   82.,   77.,   76.,\n",
       "          86.,   68.,   90.,   87.,   85.,   85.,   69.,   62.,   85.,\n",
       "          92.,   76.,   73.,   70.,   63.,   86.,   89.,   73.,   78.,\n",
       "          78.,   88.,   69.,   75.,   81.,   67.,   71.,   58.,   66.,\n",
       "          75.,   68.,   70.,   82.,   64.,   89.,   81.,   74.,   64.,\n",
       "          56.,   60.,   71.,   85.,   73.,   63.,   65.,   59.,   78.,\n",
       "          66.,   62.,   66.,   79.,   56.,   71.,   55.,   63.,   51.,\n",
       "          63.,   56.,   65.,   57.,   67.,   70.,   66.,   41.,   40.,\n",
       "          58.,   55.,   65.,   56.,   61.,   56.,   58.,   61.,   49.,\n",
       "          70.,   58.,   49.,   45.,   45.,   48.,   50.,   63.,   56.,\n",
       "          46.,   64.,   60.,   50.,   49.,   39.,   57.,   42.,   57.,\n",
       "          36.,   63.,   54.,   60.,   63.,   41.,   43.,   61.,   52.,\n",
       "          48.,   61.,   39.,   54.,   43.,   52.,   46.,   37.,   46.,\n",
       "          43.,   24.,   38.,   46.,   59.,   63.,   58.,   37.,   42.,\n",
       "          46.,   46.,   55.,   41.,   45.,   41.,   37.,   29.,   41.,\n",
       "          45.,   33.,   41.,   32.,   32.,   41.,   61.,   57.,   31.,\n",
       "          36.,   34.,   43.,   40.,   33.,   31.,   48.,   32.,   49.,\n",
       "          40.,   48.,   57.,   35.,   26.,   35.,   31.,   42.,   35.,\n",
       "          31.,   30.,   32.,   36.,   32.,   44.,   45.,   34.,   30.,\n",
       "          28.,   34.,   34.,   34.,   31.,   36.,   39.,   33.,   30.,\n",
       "          37.,   30.,   34.,   39.,   46.,   28.,   37.,   38.,   47.,\n",
       "          39.,   28.,   32.,   27.,   37.,   27.,   28.,   24.,   32.,\n",
       "          24.,   16.,   41.,   29.,   33.,   28.,   21.,   27.,   34.,\n",
       "          28.,   35.,   32.,   34.,   33.,   19.,   29.,   29.,   22.,\n",
       "          34.,   32.,   26.,   33.,   26.,   40.,   28.,   30.,   31.,\n",
       "          31.,   23.,   21.,   35.,   24.,   21.,   21.,   35.,   32.,\n",
       "          22.,   26.,   27.,   33.,   33.,   27.,   23.,   23.,   31.,\n",
       "          25.,   26.,   27.,   26.,   27.,   26.,   22.,   19.,   19.,\n",
       "          22.,   26.,   12.,   27.,   19.,   20.,   23.,   29.,   22.,\n",
       "          18.,   18.,   26.,   22.,   21.,   25.,   33.,   15.,   35.,\n",
       "          24.,   11.,   30.,   40.,   25.,   20.,   24.,   15.,   21.,\n",
       "          15.,   29.,   23.,   23.,   21.,   12.,   19.,   20.,   24.,\n",
       "          14.,   15.,   11.,   27.,   22.,   15.,   11.,   17.,   16.,\n",
       "          18.]),\n",
       " array([0.   , 0.004, 0.008, ..., 3.992, 3.996, 4.   ]),\n",
       " <a list of 1000 Patch objects>)"
      ]
     },
     "execution_count": 44,
     "metadata": {},
     "output_type": "execute_result"
    },
    {
     "data": {
      "image/png": "[encoded data removed]",
      "text/plain": [
       "<Figure size 2160x2160 with 1 Axes>"
      ]
     },
     "metadata": {},
     "output_type": "display_data"
    }
   ],
   "source": [
    "\n",
    "fig = plt.figure(figsize=(30, 30))\n",
    "plt.xticks(fontsize=20)\n",
    "plt.yticks(fontsize=20)\n",
    "\n",
    "plt.hist(dist_not_zero[dist_not_zero > 0.1], 1000, range=[0, 4])"
   ]
  },
  {
   "cell_type": "code",
   "execution_count": 39,
   "metadata": {},
   "outputs": [
    {
     "data": {
      "text/plain": [
       "(array([ 9462., 14291., 18822., 22662., 24019., 24905., 25036., 24778.,\n",
       "        23462., 22103., 20708., 19702., 17875., 15850., 14339., 13401.,\n",
       "        12145., 10710.,  9609.,  8893.,  7923.,  7186.,  6149.,  5533.,\n",
       "         5146.,  4523.,  4027.,  3533.,  3240.,  2965.,  2648.,  2282.,\n",
       "         2161.,  1777.,  1725.,  1547.,  1446.,  1267.,  1135.,  1007.,\n",
       "          928.,   834.,   758.,   675.,   638.,   574.,   557.,   452.,\n",
       "          464.,   362.]),\n",
       " array([0.1  , 0.178, 0.256, 0.334, 0.412, 0.49 , 0.568, 0.646, 0.724,\n",
       "        0.802, 0.88 , 0.958, 1.036, 1.114, 1.192, 1.27 , 1.348, 1.426,\n",
       "        1.504, 1.582, 1.66 , 1.738, 1.816, 1.894, 1.972, 2.05 , 2.128,\n",
       "        2.206, 2.284, 2.362, 2.44 , 2.518, 2.596, 2.674, 2.752, 2.83 ,\n",
       "        2.908, 2.986, 3.064, 3.142, 3.22 , 3.298, 3.376, 3.454, 3.532,\n",
       "        3.61 , 3.688, 3.766, 3.844, 3.922, 4.   ]),\n",
       " <a list of 50 Patch objects>)"
      ]
     },
     "execution_count": 39,
     "metadata": {},
     "output_type": "execute_result"
    },
    {
     "data": {
      "image/png": "[encoded data removed]",
      "text/plain": [
       "<Figure size 2160x2160 with 1 Axes>"
      ]
     },
     "metadata": {},
     "output_type": "display_data"
    }
   ],
   "source": [
    "\n",
    "fig = plt.figure(figsize=(30, 30))\n",
    "plt.xticks(fontsize=20)\n",
    "plt.yticks(fontsize=20)\n",
    "\n",
    "plt.hist(dist_not_zero, 50, range=[0.1, 4])"
   ]
  },
  {
   "cell_type": "code",
   "execution_count": null,
   "metadata": {},
   "outputs": [],
   "source": []
  }
 ],
 "metadata": {
  "kernelspec": {
   "display_name": "Python 3",
   "language": "python",
   "name": "python3"
  },
  "language_info": {
   "codemirror_mode": {
    "name": "ipython",
    "version": 3
   },
   "file_extension": ".py",
   "mimetype": "text/x-python",
   "name": "python",
   "nbconvert_exporter": "python",
   "pygments_lexer": "ipython3",
   "version": "3.6.5"
  }
 },
 "nbformat": 4,
 "nbformat_minor": 2
}
